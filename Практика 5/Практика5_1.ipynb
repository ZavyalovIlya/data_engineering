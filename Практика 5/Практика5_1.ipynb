{
 "cells": [
  {
   "cell_type": "code",
   "execution_count": 148,
   "id": "745086bf-008e-47e6-88f8-b9d044bb332d",
   "metadata": {},
   "outputs": [],
   "source": [
    "from pymongo import MongoClient\n",
    "import pymongo\n",
    "import json"
   ]
  },
  {
   "cell_type": "code",
   "execution_count": 93,
   "id": "f4fdf18a-5e5b-47c5-ab57-c102d2f97770",
   "metadata": {},
   "outputs": [],
   "source": [
    "def read_text(filename):\n",
    "    with open(filename, 'r', encoding=\"utf8\") as file:\n",
    "        jobs = file.read().split(sep='=====')\n",
    "    \n",
    "    # парсим текст\n",
    "    jobs = [\n",
    "            {x.split('::')[0]: x.split('::')[1] \n",
    "                 for x in job.split('\\n') \n",
    "                 if len(x.split('::')) > 1} # убираем '' появившиеся при разделении по '\\n'\n",
    "            for job in jobs if len(job) > 1]\n",
    "    \n",
    "    # присвоение типов\n",
    "    for job in jobs:\n",
    "        job['salary'] = int(job['salary'])\n",
    "        job['id'] = int(job['id'])\n",
    "        job['year'] = int(job['year'])\n",
    "        job['age'] = int(job['age'])\n",
    "\n",
    "    return jobs"
   ]
  },
  {
   "cell_type": "code",
   "execution_count": 83,
   "id": "6a19d2b5-e2ba-4b90-b6ad-2bbefe201979",
   "metadata": {},
   "outputs": [],
   "source": [
    "def connect_db():\n",
    "    client = MongoClient()\n",
    "    db = client['practise_5']\n",
    "    return db.jobs"
   ]
  },
  {
   "cell_type": "code",
   "execution_count": 114,
   "id": "4c0a64a9-18f7-43fa-927d-b9f633c9f40c",
   "metadata": {},
   "outputs": [],
   "source": [
    "def to_json(filename, data):\n",
    "    with open(filename, 'w') as file:\n",
    "        json.dump(data, file, ensure_ascii=False)"
   ]
  },
  {
   "cell_type": "code",
   "execution_count": 90,
   "id": "f8a8b609-c478-4aab-9f98-f4b73d673c08",
   "metadata": {},
   "outputs": [],
   "source": [
    "# connecting to db\n",
    "collection = connect_db()"
   ]
  },
  {
   "cell_type": "code",
   "execution_count": 95,
   "id": "6cab8d28-fa6a-4b0c-9ec0-c4ce48e0c9c6",
   "metadata": {
    "scrolled": true
   },
   "outputs": [
    {
     "data": {
      "text/plain": [
       "InsertManyResult([ObjectId('675dbdec74876c5511c4b735'), ObjectId('675dbdec74876c5511c4b736'), ObjectId('675dbdec74876c5511c4b737'), ObjectId('675dbdec74876c5511c4b738'), ObjectId('675dbdec74876c5511c4b739'), ObjectId('675dbdec74876c5511c4b73a'), ObjectId('675dbdec74876c5511c4b73b'), ObjectId('675dbdec74876c5511c4b73c'), ObjectId('675dbdec74876c5511c4b73d'), ObjectId('675dbdec74876c5511c4b73e'), ObjectId('675dbdec74876c5511c4b73f'), ObjectId('675dbdec74876c5511c4b740'), ObjectId('675dbdec74876c5511c4b741'), ObjectId('675dbdec74876c5511c4b742'), ObjectId('675dbdec74876c5511c4b743'), ObjectId('675dbdec74876c5511c4b744'), ObjectId('675dbdec74876c5511c4b745'), ObjectId('675dbdec74876c5511c4b746'), ObjectId('675dbdec74876c5511c4b747'), ObjectId('675dbdec74876c5511c4b748'), ObjectId('675dbdec74876c5511c4b749'), ObjectId('675dbdec74876c5511c4b74a'), ObjectId('675dbdec74876c5511c4b74b'), ObjectId('675dbdec74876c5511c4b74c'), ObjectId('675dbdec74876c5511c4b74d'), ObjectId('675dbdec74876c5511c4b74e'), ObjectId('675dbdec74876c5511c4b74f'), ObjectId('675dbdec74876c5511c4b750'), ObjectId('675dbdec74876c5511c4b751'), ObjectId('675dbdec74876c5511c4b752'), ObjectId('675dbdec74876c5511c4b753'), ObjectId('675dbdec74876c5511c4b754'), ObjectId('675dbdec74876c5511c4b755'), ObjectId('675dbdec74876c5511c4b756'), ObjectId('675dbdec74876c5511c4b757'), ObjectId('675dbdec74876c5511c4b758'), ObjectId('675dbdec74876c5511c4b759'), ObjectId('675dbdec74876c5511c4b75a'), ObjectId('675dbdec74876c5511c4b75b'), ObjectId('675dbdec74876c5511c4b75c'), ObjectId('675dbdec74876c5511c4b75d'), ObjectId('675dbdec74876c5511c4b75e'), ObjectId('675dbdec74876c5511c4b75f'), ObjectId('675dbdec74876c5511c4b760'), ObjectId('675dbdec74876c5511c4b761'), ObjectId('675dbdec74876c5511c4b762'), ObjectId('675dbdec74876c5511c4b763'), ObjectId('675dbdec74876c5511c4b764'), ObjectId('675dbdec74876c5511c4b765'), ObjectId('675dbdec74876c5511c4b766'), ObjectId('675dbdec74876c5511c4b767'), ObjectId('675dbdec74876c5511c4b768'), ObjectId('675dbdec74876c5511c4b769'), ObjectId('675dbdec74876c5511c4b76a'), ObjectId('675dbdec74876c5511c4b76b'), ObjectId('675dbdec74876c5511c4b76c'), ObjectId('675dbdec74876c5511c4b76d'), ObjectId('675dbdec74876c5511c4b76e'), ObjectId('675dbdec74876c5511c4b76f'), ObjectId('675dbdec74876c5511c4b770'), ObjectId('675dbdec74876c5511c4b771'), ObjectId('675dbdec74876c5511c4b772'), ObjectId('675dbdec74876c5511c4b773'), ObjectId('675dbdec74876c5511c4b774'), ObjectId('675dbdec74876c5511c4b775'), ObjectId('675dbdec74876c5511c4b776'), ObjectId('675dbdec74876c5511c4b777'), ObjectId('675dbdec74876c5511c4b778'), ObjectId('675dbdec74876c5511c4b779'), ObjectId('675dbdec74876c5511c4b77a'), ObjectId('675dbdec74876c5511c4b77b'), ObjectId('675dbdec74876c5511c4b77c'), ObjectId('675dbdec74876c5511c4b77d'), ObjectId('675dbdec74876c5511c4b77e'), ObjectId('675dbdec74876c5511c4b77f'), ObjectId('675dbdec74876c5511c4b780'), ObjectId('675dbdec74876c5511c4b781'), ObjectId('675dbdec74876c5511c4b782'), ObjectId('675dbdec74876c5511c4b783'), ObjectId('675dbdec74876c5511c4b784'), ObjectId('675dbdec74876c5511c4b785'), ObjectId('675dbdec74876c5511c4b786'), ObjectId('675dbdec74876c5511c4b787'), ObjectId('675dbdec74876c5511c4b788'), ObjectId('675dbdec74876c5511c4b789'), ObjectId('675dbdec74876c5511c4b78a'), ObjectId('675dbdec74876c5511c4b78b'), ObjectId('675dbdec74876c5511c4b78c'), ObjectId('675dbdec74876c5511c4b78d'), ObjectId('675dbdec74876c5511c4b78e'), ObjectId('675dbdec74876c5511c4b78f'), ObjectId('675dbdec74876c5511c4b790'), ObjectId('675dbdec74876c5511c4b791'), ObjectId('675dbdec74876c5511c4b792'), ObjectId('675dbdec74876c5511c4b793'), ObjectId('675dbdec74876c5511c4b794'), ObjectId('675dbdec74876c5511c4b795'), ObjectId('675dbdec74876c5511c4b796'), ObjectId('675dbdec74876c5511c4b797'), ObjectId('675dbdec74876c5511c4b798'), ObjectId('675dbdec74876c5511c4b799'), ObjectId('675dbdec74876c5511c4b79a'), ObjectId('675dbdec74876c5511c4b79b'), ObjectId('675dbdec74876c5511c4b79c'), ObjectId('675dbdec74876c5511c4b79d'), ObjectId('675dbdec74876c5511c4b79e'), ObjectId('675dbdec74876c5511c4b79f'), ObjectId('675dbdec74876c5511c4b7a0'), ObjectId('675dbdec74876c5511c4b7a1'), ObjectId('675dbdec74876c5511c4b7a2'), ObjectId('675dbdec74876c5511c4b7a3'), ObjectId('675dbdec74876c5511c4b7a4'), ObjectId('675dbdec74876c5511c4b7a5'), ObjectId('675dbdec74876c5511c4b7a6'), ObjectId('675dbdec74876c5511c4b7a7'), ObjectId('675dbdec74876c5511c4b7a8'), ObjectId('675dbdec74876c5511c4b7a9'), ObjectId('675dbdec74876c5511c4b7aa'), ObjectId('675dbdec74876c5511c4b7ab'), ObjectId('675dbdec74876c5511c4b7ac'), ObjectId('675dbdec74876c5511c4b7ad'), ObjectId('675dbdec74876c5511c4b7ae'), ObjectId('675dbdec74876c5511c4b7af'), ObjectId('675dbdec74876c5511c4b7b0'), ObjectId('675dbdec74876c5511c4b7b1'), ObjectId('675dbdec74876c5511c4b7b2'), ObjectId('675dbdec74876c5511c4b7b3'), ObjectId('675dbdec74876c5511c4b7b4'), ObjectId('675dbdec74876c5511c4b7b5'), ObjectId('675dbdec74876c5511c4b7b6'), ObjectId('675dbdec74876c5511c4b7b7'), ObjectId('675dbdec74876c5511c4b7b8'), ObjectId('675dbdec74876c5511c4b7b9'), ObjectId('675dbdec74876c5511c4b7ba'), ObjectId('675dbdec74876c5511c4b7bb'), ObjectId('675dbdec74876c5511c4b7bc'), ObjectId('675dbdec74876c5511c4b7bd'), ObjectId('675dbdec74876c5511c4b7be'), ObjectId('675dbdec74876c5511c4b7bf'), ObjectId('675dbdec74876c5511c4b7c0'), ObjectId('675dbdec74876c5511c4b7c1'), ObjectId('675dbdec74876c5511c4b7c2'), ObjectId('675dbdec74876c5511c4b7c3'), ObjectId('675dbdec74876c5511c4b7c4'), ObjectId('675dbdec74876c5511c4b7c5'), ObjectId('675dbdec74876c5511c4b7c6'), ObjectId('675dbdec74876c5511c4b7c7'), ObjectId('675dbdec74876c5511c4b7c8'), ObjectId('675dbdec74876c5511c4b7c9'), ObjectId('675dbdec74876c5511c4b7ca'), ObjectId('675dbdec74876c5511c4b7cb'), ObjectId('675dbdec74876c5511c4b7cc'), ObjectId('675dbdec74876c5511c4b7cd'), ObjectId('675dbdec74876c5511c4b7ce'), ObjectId('675dbdec74876c5511c4b7cf'), ObjectId('675dbdec74876c5511c4b7d0'), ObjectId('675dbdec74876c5511c4b7d1'), ObjectId('675dbdec74876c5511c4b7d2'), ObjectId('675dbdec74876c5511c4b7d3'), ObjectId('675dbdec74876c5511c4b7d4'), ObjectId('675dbdec74876c5511c4b7d5'), ObjectId('675dbdec74876c5511c4b7d6'), ObjectId('675dbdec74876c5511c4b7d7'), ObjectId('675dbdec74876c5511c4b7d8'), ObjectId('675dbdec74876c5511c4b7d9'), ObjectId('675dbdec74876c5511c4b7da'), ObjectId('675dbdec74876c5511c4b7db'), ObjectId('675dbdec74876c5511c4b7dc'), ObjectId('675dbdec74876c5511c4b7dd'), ObjectId('675dbdec74876c5511c4b7de'), ObjectId('675dbdec74876c5511c4b7df'), ObjectId('675dbdec74876c5511c4b7e0'), ObjectId('675dbdec74876c5511c4b7e1'), ObjectId('675dbdec74876c5511c4b7e2'), ObjectId('675dbdec74876c5511c4b7e3'), ObjectId('675dbdec74876c5511c4b7e4'), ObjectId('675dbdec74876c5511c4b7e5'), ObjectId('675dbdec74876c5511c4b7e6'), ObjectId('675dbdec74876c5511c4b7e7'), ObjectId('675dbdec74876c5511c4b7e8'), ObjectId('675dbdec74876c5511c4b7e9'), ObjectId('675dbdec74876c5511c4b7ea'), ObjectId('675dbdec74876c5511c4b7eb'), ObjectId('675dbdec74876c5511c4b7ec'), ObjectId('675dbdec74876c5511c4b7ed'), ObjectId('675dbdec74876c5511c4b7ee'), ObjectId('675dbdec74876c5511c4b7ef'), ObjectId('675dbdec74876c5511c4b7f0'), ObjectId('675dbdec74876c5511c4b7f1'), ObjectId('675dbdec74876c5511c4b7f2'), ObjectId('675dbdec74876c5511c4b7f3'), ObjectId('675dbdec74876c5511c4b7f4'), ObjectId('675dbdec74876c5511c4b7f5'), ObjectId('675dbdec74876c5511c4b7f6'), ObjectId('675dbdec74876c5511c4b7f7'), ObjectId('675dbdec74876c5511c4b7f8'), ObjectId('675dbdec74876c5511c4b7f9'), ObjectId('675dbdec74876c5511c4b7fa'), ObjectId('675dbdec74876c5511c4b7fb'), ObjectId('675dbdec74876c5511c4b7fc'), ObjectId('675dbdec74876c5511c4b7fd'), ObjectId('675dbdec74876c5511c4b7fe'), ObjectId('675dbdec74876c5511c4b7ff'), ObjectId('675dbdec74876c5511c4b800'), ObjectId('675dbdec74876c5511c4b801'), ObjectId('675dbdec74876c5511c4b802'), ObjectId('675dbdec74876c5511c4b803'), ObjectId('675dbdec74876c5511c4b804'), ObjectId('675dbdec74876c5511c4b805'), ObjectId('675dbdec74876c5511c4b806'), ObjectId('675dbdec74876c5511c4b807'), ObjectId('675dbdec74876c5511c4b808'), ObjectId('675dbdec74876c5511c4b809'), ObjectId('675dbdec74876c5511c4b80a'), ObjectId('675dbdec74876c5511c4b80b'), ObjectId('675dbdec74876c5511c4b80c'), ObjectId('675dbdec74876c5511c4b80d'), ObjectId('675dbdec74876c5511c4b80e'), ObjectId('675dbdec74876c5511c4b80f'), ObjectId('675dbdec74876c5511c4b810'), ObjectId('675dbdec74876c5511c4b811'), ObjectId('675dbdec74876c5511c4b812'), ObjectId('675dbdec74876c5511c4b813'), ObjectId('675dbdec74876c5511c4b814'), ObjectId('675dbdec74876c5511c4b815'), ObjectId('675dbdec74876c5511c4b816'), ObjectId('675dbdec74876c5511c4b817'), ObjectId('675dbdec74876c5511c4b818'), ObjectId('675dbdec74876c5511c4b819'), ObjectId('675dbdec74876c5511c4b81a'), ObjectId('675dbdec74876c5511c4b81b'), ObjectId('675dbdec74876c5511c4b81c'), ObjectId('675dbdec74876c5511c4b81d'), ObjectId('675dbdec74876c5511c4b81e'), ObjectId('675dbdec74876c5511c4b81f'), ObjectId('675dbdec74876c5511c4b820'), ObjectId('675dbdec74876c5511c4b821'), ObjectId('675dbdec74876c5511c4b822'), ObjectId('675dbdec74876c5511c4b823'), ObjectId('675dbdec74876c5511c4b824'), ObjectId('675dbdec74876c5511c4b825'), ObjectId('675dbdec74876c5511c4b826'), ObjectId('675dbdec74876c5511c4b827'), ObjectId('675dbdec74876c5511c4b828'), ObjectId('675dbdec74876c5511c4b829'), ObjectId('675dbdec74876c5511c4b82a'), ObjectId('675dbdec74876c5511c4b82b'), ObjectId('675dbdec74876c5511c4b82c'), ObjectId('675dbdec74876c5511c4b82d'), ObjectId('675dbdec74876c5511c4b82e'), ObjectId('675dbdec74876c5511c4b82f'), ObjectId('675dbdec74876c5511c4b830'), ObjectId('675dbdec74876c5511c4b831'), ObjectId('675dbdec74876c5511c4b832'), ObjectId('675dbdec74876c5511c4b833'), ObjectId('675dbdec74876c5511c4b834'), ObjectId('675dbdec74876c5511c4b835'), ObjectId('675dbdec74876c5511c4b836'), ObjectId('675dbdec74876c5511c4b837'), ObjectId('675dbdec74876c5511c4b838'), ObjectId('675dbdec74876c5511c4b839'), ObjectId('675dbdec74876c5511c4b83a'), ObjectId('675dbdec74876c5511c4b83b'), ObjectId('675dbdec74876c5511c4b83c'), ObjectId('675dbdec74876c5511c4b83d'), ObjectId('675dbdec74876c5511c4b83e'), ObjectId('675dbdec74876c5511c4b83f'), ObjectId('675dbdec74876c5511c4b840'), ObjectId('675dbdec74876c5511c4b841'), ObjectId('675dbdec74876c5511c4b842'), ObjectId('675dbdec74876c5511c4b843'), ObjectId('675dbdec74876c5511c4b844'), ObjectId('675dbdec74876c5511c4b845'), ObjectId('675dbdec74876c5511c4b846'), ObjectId('675dbdec74876c5511c4b847'), ObjectId('675dbdec74876c5511c4b848'), ObjectId('675dbdec74876c5511c4b849'), ObjectId('675dbdec74876c5511c4b84a'), ObjectId('675dbdec74876c5511c4b84b'), ObjectId('675dbdec74876c5511c4b84c'), ObjectId('675dbdec74876c5511c4b84d'), ObjectId('675dbdec74876c5511c4b84e'), ObjectId('675dbdec74876c5511c4b84f'), ObjectId('675dbdec74876c5511c4b850'), ObjectId('675dbdec74876c5511c4b851'), ObjectId('675dbdec74876c5511c4b852'), ObjectId('675dbdec74876c5511c4b853'), ObjectId('675dbdec74876c5511c4b854'), ObjectId('675dbdec74876c5511c4b855'), ObjectId('675dbdec74876c5511c4b856'), ObjectId('675dbdec74876c5511c4b857'), ObjectId('675dbdec74876c5511c4b858'), ObjectId('675dbdec74876c5511c4b859'), ObjectId('675dbdec74876c5511c4b85a'), ObjectId('675dbdec74876c5511c4b85b'), ObjectId('675dbdec74876c5511c4b85c'), ObjectId('675dbdec74876c5511c4b85d'), ObjectId('675dbdec74876c5511c4b85e'), ObjectId('675dbdec74876c5511c4b85f'), ObjectId('675dbdec74876c5511c4b860'), ObjectId('675dbdec74876c5511c4b861'), ObjectId('675dbdec74876c5511c4b862'), ObjectId('675dbdec74876c5511c4b863'), ObjectId('675dbdec74876c5511c4b864'), ObjectId('675dbdec74876c5511c4b865'), ObjectId('675dbdec74876c5511c4b866'), ObjectId('675dbdec74876c5511c4b867'), ObjectId('675dbdec74876c5511c4b868'), ObjectId('675dbdec74876c5511c4b869'), ObjectId('675dbdec74876c5511c4b86a'), ObjectId('675dbdec74876c5511c4b86b'), ObjectId('675dbdec74876c5511c4b86c'), ObjectId('675dbdec74876c5511c4b86d'), ObjectId('675dbdec74876c5511c4b86e'), ObjectId('675dbdec74876c5511c4b86f'), ObjectId('675dbdec74876c5511c4b870'), ObjectId('675dbdec74876c5511c4b871'), ObjectId('675dbdec74876c5511c4b872'), ObjectId('675dbdec74876c5511c4b873'), ObjectId('675dbdec74876c5511c4b874'), ObjectId('675dbdec74876c5511c4b875'), ObjectId('675dbdec74876c5511c4b876'), ObjectId('675dbdec74876c5511c4b877'), ObjectId('675dbdec74876c5511c4b878'), ObjectId('675dbdec74876c5511c4b879'), ObjectId('675dbdec74876c5511c4b87a'), ObjectId('675dbdec74876c5511c4b87b'), ObjectId('675dbdec74876c5511c4b87c'), ObjectId('675dbdec74876c5511c4b87d'), ObjectId('675dbdec74876c5511c4b87e'), ObjectId('675dbdec74876c5511c4b87f'), ObjectId('675dbdec74876c5511c4b880'), ObjectId('675dbdec74876c5511c4b881'), ObjectId('675dbdec74876c5511c4b882'), ObjectId('675dbdec74876c5511c4b883'), ObjectId('675dbdec74876c5511c4b884'), ObjectId('675dbdec74876c5511c4b885'), ObjectId('675dbdec74876c5511c4b886'), ObjectId('675dbdec74876c5511c4b887'), ObjectId('675dbdec74876c5511c4b888'), ObjectId('675dbdec74876c5511c4b889'), ObjectId('675dbdec74876c5511c4b88a'), ObjectId('675dbdec74876c5511c4b88b'), ObjectId('675dbdec74876c5511c4b88c'), ObjectId('675dbdec74876c5511c4b88d'), ObjectId('675dbdec74876c5511c4b88e'), ObjectId('675dbdec74876c5511c4b88f'), ObjectId('675dbdec74876c5511c4b890'), ObjectId('675dbdec74876c5511c4b891'), ObjectId('675dbdec74876c5511c4b892'), ObjectId('675dbdec74876c5511c4b893'), ObjectId('675dbdec74876c5511c4b894'), ObjectId('675dbdec74876c5511c4b895'), ObjectId('675dbdec74876c5511c4b896'), ObjectId('675dbdec74876c5511c4b897'), ObjectId('675dbdec74876c5511c4b898'), ObjectId('675dbdec74876c5511c4b899'), ObjectId('675dbdec74876c5511c4b89a'), ObjectId('675dbdec74876c5511c4b89b'), ObjectId('675dbdec74876c5511c4b89c'), ObjectId('675dbdec74876c5511c4b89d'), ObjectId('675dbdec74876c5511c4b89e'), ObjectId('675dbdec74876c5511c4b89f'), ObjectId('675dbdec74876c5511c4b8a0'), ObjectId('675dbdec74876c5511c4b8a1'), ObjectId('675dbdec74876c5511c4b8a2'), ObjectId('675dbdec74876c5511c4b8a3'), ObjectId('675dbdec74876c5511c4b8a4'), ObjectId('675dbdec74876c5511c4b8a5'), ObjectId('675dbdec74876c5511c4b8a6'), ObjectId('675dbdec74876c5511c4b8a7'), ObjectId('675dbdec74876c5511c4b8a8'), ObjectId('675dbdec74876c5511c4b8a9'), ObjectId('675dbdec74876c5511c4b8aa'), ObjectId('675dbdec74876c5511c4b8ab'), ObjectId('675dbdec74876c5511c4b8ac'), ObjectId('675dbdec74876c5511c4b8ad'), ObjectId('675dbdec74876c5511c4b8ae'), ObjectId('675dbdec74876c5511c4b8af'), ObjectId('675dbdec74876c5511c4b8b0'), ObjectId('675dbdec74876c5511c4b8b1'), ObjectId('675dbdec74876c5511c4b8b2'), ObjectId('675dbdec74876c5511c4b8b3'), ObjectId('675dbdec74876c5511c4b8b4'), ObjectId('675dbdec74876c5511c4b8b5'), ObjectId('675dbdec74876c5511c4b8b6'), ObjectId('675dbdec74876c5511c4b8b7'), ObjectId('675dbdec74876c5511c4b8b8'), ObjectId('675dbdec74876c5511c4b8b9'), ObjectId('675dbdec74876c5511c4b8ba'), ObjectId('675dbdec74876c5511c4b8bb'), ObjectId('675dbdec74876c5511c4b8bc'), ObjectId('675dbdec74876c5511c4b8bd'), ObjectId('675dbdec74876c5511c4b8be'), ObjectId('675dbdec74876c5511c4b8bf'), ObjectId('675dbdec74876c5511c4b8c0'), ObjectId('675dbdec74876c5511c4b8c1'), ObjectId('675dbdec74876c5511c4b8c2'), ObjectId('675dbdec74876c5511c4b8c3'), ObjectId('675dbdec74876c5511c4b8c4'), ObjectId('675dbdec74876c5511c4b8c5'), ObjectId('675dbdec74876c5511c4b8c6'), ObjectId('675dbdec74876c5511c4b8c7'), ObjectId('675dbdec74876c5511c4b8c8'), ObjectId('675dbdec74876c5511c4b8c9'), ObjectId('675dbdec74876c5511c4b8ca'), ObjectId('675dbdec74876c5511c4b8cb'), ObjectId('675dbdec74876c5511c4b8cc'), ObjectId('675dbdec74876c5511c4b8cd'), ObjectId('675dbdec74876c5511c4b8ce'), ObjectId('675dbdec74876c5511c4b8cf'), ObjectId('675dbdec74876c5511c4b8d0'), ObjectId('675dbdec74876c5511c4b8d1'), ObjectId('675dbdec74876c5511c4b8d2'), ObjectId('675dbdec74876c5511c4b8d3'), ObjectId('675dbdec74876c5511c4b8d4'), ObjectId('675dbdec74876c5511c4b8d5'), ObjectId('675dbdec74876c5511c4b8d6'), ObjectId('675dbdec74876c5511c4b8d7'), ObjectId('675dbdec74876c5511c4b8d8'), ObjectId('675dbdec74876c5511c4b8d9'), ObjectId('675dbdec74876c5511c4b8da'), ObjectId('675dbdec74876c5511c4b8db'), ObjectId('675dbdec74876c5511c4b8dc'), ObjectId('675dbdec74876c5511c4b8dd'), ObjectId('675dbdec74876c5511c4b8de'), ObjectId('675dbdec74876c5511c4b8df'), ObjectId('675dbdec74876c5511c4b8e0'), ObjectId('675dbdec74876c5511c4b8e1'), ObjectId('675dbdec74876c5511c4b8e2'), ObjectId('675dbdec74876c5511c4b8e3'), ObjectId('675dbdec74876c5511c4b8e4'), ObjectId('675dbdec74876c5511c4b8e5'), ObjectId('675dbdec74876c5511c4b8e6'), ObjectId('675dbdec74876c5511c4b8e7'), ObjectId('675dbdec74876c5511c4b8e8'), ObjectId('675dbdec74876c5511c4b8e9'), ObjectId('675dbdec74876c5511c4b8ea'), ObjectId('675dbdec74876c5511c4b8eb'), ObjectId('675dbdec74876c5511c4b8ec'), ObjectId('675dbdec74876c5511c4b8ed'), ObjectId('675dbdec74876c5511c4b8ee'), ObjectId('675dbdec74876c5511c4b8ef'), ObjectId('675dbdec74876c5511c4b8f0'), ObjectId('675dbdec74876c5511c4b8f1'), ObjectId('675dbdec74876c5511c4b8f2'), ObjectId('675dbdec74876c5511c4b8f3'), ObjectId('675dbdec74876c5511c4b8f4'), ObjectId('675dbdec74876c5511c4b8f5'), ObjectId('675dbdec74876c5511c4b8f6'), ObjectId('675dbdec74876c5511c4b8f7'), ObjectId('675dbdec74876c5511c4b8f8'), ObjectId('675dbdec74876c5511c4b8f9'), ObjectId('675dbdec74876c5511c4b8fa'), ObjectId('675dbdec74876c5511c4b8fb'), ObjectId('675dbdec74876c5511c4b8fc'), ObjectId('675dbdec74876c5511c4b8fd'), ObjectId('675dbdec74876c5511c4b8fe'), ObjectId('675dbdec74876c5511c4b8ff'), ObjectId('675dbdec74876c5511c4b900'), ObjectId('675dbdec74876c5511c4b901'), ObjectId('675dbdec74876c5511c4b902'), ObjectId('675dbdec74876c5511c4b903'), ObjectId('675dbdec74876c5511c4b904'), ObjectId('675dbdec74876c5511c4b905'), ObjectId('675dbdec74876c5511c4b906'), ObjectId('675dbdec74876c5511c4b907'), ObjectId('675dbdec74876c5511c4b908'), ObjectId('675dbdec74876c5511c4b909'), ObjectId('675dbdec74876c5511c4b90a'), ObjectId('675dbdec74876c5511c4b90b'), ObjectId('675dbdec74876c5511c4b90c'), ObjectId('675dbdec74876c5511c4b90d'), ObjectId('675dbdec74876c5511c4b90e'), ObjectId('675dbdec74876c5511c4b90f'), ObjectId('675dbdec74876c5511c4b910'), ObjectId('675dbdec74876c5511c4b911'), ObjectId('675dbdec74876c5511c4b912'), ObjectId('675dbdec74876c5511c4b913'), ObjectId('675dbdec74876c5511c4b914'), ObjectId('675dbdec74876c5511c4b915'), ObjectId('675dbdec74876c5511c4b916'), ObjectId('675dbdec74876c5511c4b917'), ObjectId('675dbdec74876c5511c4b918'), ObjectId('675dbdec74876c5511c4b919'), ObjectId('675dbdec74876c5511c4b91a'), ObjectId('675dbdec74876c5511c4b91b'), ObjectId('675dbdec74876c5511c4b91c'), ObjectId('675dbdec74876c5511c4b91d'), ObjectId('675dbdec74876c5511c4b91e'), ObjectId('675dbdec74876c5511c4b91f'), ObjectId('675dbdec74876c5511c4b920'), ObjectId('675dbdec74876c5511c4b921'), ObjectId('675dbdec74876c5511c4b922'), ObjectId('675dbdec74876c5511c4b923'), ObjectId('675dbdec74876c5511c4b924'), ObjectId('675dbdec74876c5511c4b925'), ObjectId('675dbdec74876c5511c4b926'), ObjectId('675dbdec74876c5511c4b927'), ObjectId('675dbdec74876c5511c4b928'), ObjectId('675dbdec74876c5511c4b929'), ObjectId('675dbdec74876c5511c4b92a'), ObjectId('675dbdec74876c5511c4b92b'), ObjectId('675dbdec74876c5511c4b92c'), ObjectId('675dbdec74876c5511c4b92d'), ObjectId('675dbdec74876c5511c4b92e'), ObjectId('675dbdec74876c5511c4b92f'), ObjectId('675dbdec74876c5511c4b930'), ObjectId('675dbdec74876c5511c4b931'), ObjectId('675dbdec74876c5511c4b932'), ObjectId('675dbdec74876c5511c4b933'), ObjectId('675dbdec74876c5511c4b934'), ObjectId('675dbdec74876c5511c4b935'), ObjectId('675dbdec74876c5511c4b936'), ObjectId('675dbdec74876c5511c4b937'), ObjectId('675dbdec74876c5511c4b938'), ObjectId('675dbdec74876c5511c4b939'), ObjectId('675dbdec74876c5511c4b93a'), ObjectId('675dbdec74876c5511c4b93b'), ObjectId('675dbdec74876c5511c4b93c'), ObjectId('675dbdec74876c5511c4b93d'), ObjectId('675dbdec74876c5511c4b93e'), ObjectId('675dbdec74876c5511c4b93f'), ObjectId('675dbdec74876c5511c4b940'), ObjectId('675dbdec74876c5511c4b941'), ObjectId('675dbdec74876c5511c4b942'), ObjectId('675dbdec74876c5511c4b943'), ObjectId('675dbdec74876c5511c4b944'), ObjectId('675dbdec74876c5511c4b945'), ObjectId('675dbdec74876c5511c4b946'), ObjectId('675dbdec74876c5511c4b947'), ObjectId('675dbdec74876c5511c4b948'), ObjectId('675dbdec74876c5511c4b949'), ObjectId('675dbdec74876c5511c4b94a'), ObjectId('675dbdec74876c5511c4b94b'), ObjectId('675dbdec74876c5511c4b94c'), ObjectId('675dbdec74876c5511c4b94d'), ObjectId('675dbdec74876c5511c4b94e'), ObjectId('675dbdec74876c5511c4b94f'), ObjectId('675dbdec74876c5511c4b950'), ObjectId('675dbdec74876c5511c4b951'), ObjectId('675dbdec74876c5511c4b952'), ObjectId('675dbdec74876c5511c4b953'), ObjectId('675dbdec74876c5511c4b954'), ObjectId('675dbdec74876c5511c4b955'), ObjectId('675dbdec74876c5511c4b956'), ObjectId('675dbdec74876c5511c4b957'), ObjectId('675dbdec74876c5511c4b958'), ObjectId('675dbdec74876c5511c4b959'), ObjectId('675dbdec74876c5511c4b95a'), ObjectId('675dbdec74876c5511c4b95b'), ObjectId('675dbdec74876c5511c4b95c'), ObjectId('675dbdec74876c5511c4b95d'), ObjectId('675dbdec74876c5511c4b95e'), ObjectId('675dbdec74876c5511c4b95f'), ObjectId('675dbdec74876c5511c4b960'), ObjectId('675dbdec74876c5511c4b961'), ObjectId('675dbdec74876c5511c4b962'), ObjectId('675dbdec74876c5511c4b963'), ObjectId('675dbdec74876c5511c4b964'), ObjectId('675dbdec74876c5511c4b965'), ObjectId('675dbdec74876c5511c4b966'), ObjectId('675dbdec74876c5511c4b967'), ObjectId('675dbdec74876c5511c4b968'), ObjectId('675dbdec74876c5511c4b969'), ObjectId('675dbdec74876c5511c4b96a'), ObjectId('675dbdec74876c5511c4b96b'), ObjectId('675dbdec74876c5511c4b96c'), ObjectId('675dbdec74876c5511c4b96d'), ObjectId('675dbdec74876c5511c4b96e'), ObjectId('675dbdec74876c5511c4b96f'), ObjectId('675dbdec74876c5511c4b970'), ObjectId('675dbdec74876c5511c4b971'), ObjectId('675dbdec74876c5511c4b972'), ObjectId('675dbdec74876c5511c4b973'), ObjectId('675dbdec74876c5511c4b974'), ObjectId('675dbdec74876c5511c4b975'), ObjectId('675dbdec74876c5511c4b976'), ObjectId('675dbdec74876c5511c4b977'), ObjectId('675dbdec74876c5511c4b978'), ObjectId('675dbdec74876c5511c4b979'), ObjectId('675dbdec74876c5511c4b97a'), ObjectId('675dbdec74876c5511c4b97b'), ObjectId('675dbdec74876c5511c4b97c'), ObjectId('675dbdec74876c5511c4b97d'), ObjectId('675dbdec74876c5511c4b97e'), ObjectId('675dbdec74876c5511c4b97f'), ObjectId('675dbdec74876c5511c4b980'), ObjectId('675dbdec74876c5511c4b981'), ObjectId('675dbdec74876c5511c4b982'), ObjectId('675dbdec74876c5511c4b983'), ObjectId('675dbdec74876c5511c4b984'), ObjectId('675dbdec74876c5511c4b985'), ObjectId('675dbdec74876c5511c4b986'), ObjectId('675dbdec74876c5511c4b987'), ObjectId('675dbdec74876c5511c4b988'), ObjectId('675dbdec74876c5511c4b989'), ObjectId('675dbdec74876c5511c4b98a'), ObjectId('675dbdec74876c5511c4b98b'), ObjectId('675dbdec74876c5511c4b98c'), ObjectId('675dbdec74876c5511c4b98d'), ObjectId('675dbdec74876c5511c4b98e'), ObjectId('675dbdec74876c5511c4b98f'), ObjectId('675dbdec74876c5511c4b990'), ObjectId('675dbdec74876c5511c4b991'), ObjectId('675dbdec74876c5511c4b992'), ObjectId('675dbdec74876c5511c4b993'), ObjectId('675dbdec74876c5511c4b994'), ObjectId('675dbdec74876c5511c4b995'), ObjectId('675dbdec74876c5511c4b996'), ObjectId('675dbdec74876c5511c4b997'), ObjectId('675dbdec74876c5511c4b998'), ObjectId('675dbdec74876c5511c4b999'), ObjectId('675dbdec74876c5511c4b99a'), ObjectId('675dbdec74876c5511c4b99b'), ObjectId('675dbdec74876c5511c4b99c'), ObjectId('675dbdec74876c5511c4b99d'), ObjectId('675dbdec74876c5511c4b99e'), ObjectId('675dbdec74876c5511c4b99f'), ObjectId('675dbdec74876c5511c4b9a0'), ObjectId('675dbdec74876c5511c4b9a1'), ObjectId('675dbdec74876c5511c4b9a2'), ObjectId('675dbdec74876c5511c4b9a3'), ObjectId('675dbdec74876c5511c4b9a4'), ObjectId('675dbdec74876c5511c4b9a5'), ObjectId('675dbdec74876c5511c4b9a6'), ObjectId('675dbdec74876c5511c4b9a7'), ObjectId('675dbdec74876c5511c4b9a8'), ObjectId('675dbdec74876c5511c4b9a9'), ObjectId('675dbdec74876c5511c4b9aa'), ObjectId('675dbdec74876c5511c4b9ab'), ObjectId('675dbdec74876c5511c4b9ac'), ObjectId('675dbdec74876c5511c4b9ad'), ObjectId('675dbdec74876c5511c4b9ae'), ObjectId('675dbdec74876c5511c4b9af')], acknowledged=True)"
      ]
     },
     "execution_count": 95,
     "metadata": {},
     "output_type": "execute_result"
    }
   ],
   "source": [
    "collection.insert_many(read_text('inputs/task_1_item.text'))"
   ]
  },
  {
   "cell_type": "code",
   "execution_count": 115,
   "id": "5a21f29f-a273-4756-b300-118d7994fb02",
   "metadata": {},
   "outputs": [],
   "source": [
    "# query 1\n",
    "data = list(collection.find(limit=10).sort({'salary':pymongo.DESCENDING}))\n",
    "for el in data:\n",
    "    del el['_id']\n",
    "to_json('outputs/first_task_q1.json', data)"
   ]
  },
  {
   "cell_type": "code",
   "execution_count": 149,
   "id": "7b561faf-c2c4-4c46-af09-9779b69bdcc3",
   "metadata": {},
   "outputs": [],
   "source": [
    "# query 2\n",
    "data = list(collection.find(\n",
    "                            {'age': {'$lt': 30}}, \n",
    "                            limit=15)\n",
    "                            .sort({'salary':pymongo.DESCENDING}))\n",
    "for el in data:\n",
    "    del el['_id']\n",
    "to_json('outputs/first_task_q2.json', data)"
   ]
  },
  {
   "cell_type": "code",
   "execution_count": 131,
   "id": "68d9eee4-34cd-4116-ae99-3f5f54a95c1c",
   "metadata": {},
   "outputs": [],
   "source": [
    "# query 3\n",
    "data = list(collection.find(\n",
    "                            {'city': 'Ереван',\n",
    "                            'job': {'$in': ['Повар', 'Психолог', 'Инженер']}}, \n",
    "                            limit=15)\n",
    "                            .sort({'age':pymongo.ASCENDING}))\n",
    "for el in data:\n",
    "    del el['_id']\n",
    "to_json('outputs/first_task_q3.json', data)"
   ]
  },
  {
   "cell_type": "code",
   "execution_count": 147,
   "id": "f3f513be-02dd-4f99-be6a-d0ef02445e49",
   "metadata": {},
   "outputs": [],
   "source": [
    "# query 4\n",
    "data = collection.count_documents(\n",
    "                            {'age': {'$gte': 20, '$lte': 50},\n",
    "                             'year': {'$gte': 2019, '$lte': 2022},\n",
    "                             '$or': [\n",
    "                                 {'salary': {'$gte': 50000, '$lte': 75000}},\n",
    "                                 {'salary': {'$gte': 125000, '$lte': 150000}}]\n",
    "                            })\n",
    "\n",
    "to_json('outputs/first_task_q4.json', data)"
   ]
  }
 ],
 "metadata": {
  "kernelspec": {
   "display_name": "Python 3 (ipykernel)",
   "language": "python",
   "name": "python3"
  },
  "language_info": {
   "codemirror_mode": {
    "name": "ipython",
    "version": 3
   },
   "file_extension": ".py",
   "mimetype": "text/x-python",
   "name": "python",
   "nbconvert_exporter": "python",
   "pygments_lexer": "ipython3",
   "version": "3.10.13"
  }
 },
 "nbformat": 4,
 "nbformat_minor": 5
}
